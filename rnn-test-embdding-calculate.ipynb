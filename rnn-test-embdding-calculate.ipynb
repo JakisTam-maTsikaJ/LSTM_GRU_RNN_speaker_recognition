{
 "cells": [
  {
   "cell_type": "code",
   "execution_count": 1,
   "metadata": {
    "_cell_guid": "b1076dfc-b9ad-4769-8c92-a6c4dae69d19",
    "_uuid": "8f2839f25d086af736a60e9eeb907d3b93b6e0e5",
    "execution": {
     "iopub.execute_input": "2024-11-22T13:13:44.812066Z",
     "iopub.status.busy": "2024-11-22T13:13:44.811629Z",
     "iopub.status.idle": "2024-11-22T13:13:44.819161Z",
     "shell.execute_reply": "2024-11-22T13:13:44.817842Z",
     "shell.execute_reply.started": "2024-11-22T13:13:44.812033Z"
    },
    "trusted": true
   },
   "outputs": [],
   "source": [
    "import pandas as pd\n",
    "import os\n",
    "import numpy as np\n",
    "import soundfile as sf\n",
    "from IPython.display import clear_output\n",
    "import pickle\n",
    "import librosa\n",
    "from sklearn.preprocessing import StandardScaler\n",
    "from keras.utils import to_categorical\n",
    "import tensorflow as tf\n",
    "from tensorflow.keras.callbacks import ReduceLROnPlateau, EarlyStopping, Callback\n",
    "from tensorflow.keras.models import Model, load_model, Sequential\n",
    "from tensorflow.keras.layers import LSTM, Dense, Dropout, BatchNormalization, GRU, SimpleRNN\n",
    "from sklearn.metrics.pairwise import cosine_similarity"
   ]
  },
  {
   "cell_type": "code",
   "execution_count": null,
   "metadata": {
    "execution": {
     "iopub.execute_input": "2024-11-22T13:13:46.326133Z",
     "iopub.status.busy": "2024-11-22T13:13:46.325719Z",
     "iopub.status.idle": "2024-11-22T13:13:47.326889Z",
     "shell.execute_reply": "2024-11-22T13:13:47.325653Z",
     "shell.execute_reply.started": "2024-11-22T13:13:46.326102Z"
    },
    "trusted": true
   },
   "outputs": [],
   "source": [
    "# Wczytuje wszytkei modele\n",
    "model_LSTM = load_model(\"/kaggle/input/modele-rnn-time/model_LSTM.h5\")\n",
    "model_GRU = load_model(\"/kaggle/input/modele-rnn-time/model_GRU.h5\")\n",
    "model_RNN = load_model(\"/kaggle/input/modele-rnn-time/model_RNN.h5\")\n",
    "\n",
    "# Zapisuję je w liście, tworzę również dodatkową listę aby pętli obłusgiwać modele po nazwie\n",
    "list_of_models = [model_LSTM, model_GRU, model_RNN]\n",
    "name_of_models = ['LSTM',       'GRU',      'RNN']\n",
    "\n",
    "# Wczytuję dane do ewaluacji modelu oraz skaler który muszę użyć przez tworzeniem embeddingów\n",
    "with open(\"/kaggle/input/scaler-rnn/scaler.pkl\", \"rb\") as file:\n",
    "    scaler = pickle.load(file)\n",
    "with open(\"/kaggle/input/data-to-enrollment-and-test/data_to_cross_checking.pkl\", \"rb\") as file:\n",
    "    data_to_cross_checking = pickle.load(file)"
   ]
  },
  {
   "cell_type": "code",
   "execution_count": null,
   "metadata": {
    "execution": {
     "iopub.execute_input": "2024-11-22T13:13:47.893957Z",
     "iopub.status.busy": "2024-11-22T13:13:47.893499Z",
     "iopub.status.idle": "2024-11-22T13:13:47.904574Z",
     "shell.execute_reply": "2024-11-22T13:13:47.903440Z",
     "shell.execute_reply.started": "2024-11-22T13:13:47.893919Z"
    },
    "trusted": true
   },
   "outputs": [],
   "source": [
    "def split_audio_to_slices(path_to_files, seconds):\n",
    "    \n",
    "    # Przechodzę do katalogów wewnątrz folderu osoby (ID osoby).\n",
    "    # Każdy folder wewnętrzny zawiera więcej podfolderów, które mogą zawierać nagrania.\n",
    "    paths_inside_ID = [f.name for f in os.scandir(path_to_files) if f.is_dir()]\n",
    "\n",
    "    # Tworzę pełne ścieżki do podfolderów, aby przejść do wszystkich plików nagrań dla danej osoby.\n",
    "    full_paths_to_files = [path_to_files + '/' + path_inside_ID for path_inside_ID in paths_inside_ID]\n",
    "\n",
    "    # Zbieram wszystkie ścieżki do plików audio danej osoby.\n",
    "    # Każdy plik powinien mieć rozszerzenie `.flac`, a wszystkie pliki są przechowywane w zmiennej `all_files_for_ID`.\n",
    "    \n",
    "    all_files_for_ID = []\n",
    "    for full_path_to_files in full_paths_to_files:\n",
    "        files = [f.name for f in os.scandir(full_path_to_files) if f.is_file() and f.name.endswith('.flac')]\n",
    "        files = [full_path_to_files + '/' + file for file in files]\n",
    "        all_files_for_ID = all_files_for_ID + files\n",
    "\n",
    "    # Łączę wszystkie nagrania danej osoby w jedno bardzo długie nagranie.\n",
    "    # Używam częstotliwości próbkowania 16kHz.\n",
    "    sr = 16000\n",
    "    combined_signals = np.array([])\n",
    "    for file_for_ID in all_files_for_ID:\n",
    "        signal, sr = librosa.load(file_for_ID, sr=sr)\n",
    "        combined_signals = np.concatenate([combined_signals, signal])\n",
    "\n",
    "    # Długie nagranie dzielę na  fragmenty o podanej długości.\n",
    "    # Fragmenty, które mają mniej niż zadeklarowane długości nagrania (resztki na końcu nagrania), są pomijane.\n",
    "    list_for_parts = []\n",
    "    len_of_combined_signals = len(combined_signals)\n",
    "    step = seconds * sr  # Ustawienie skoku na 5 sekund\n",
    "    for i in np.arange(start=0, stop=len_of_combined_signals-step, step=step):\n",
    "        list_for_parts.append(combined_signals[i:i+step].tolist())\n",
    "\n",
    "    \n",
    "    parts = np.array(list_for_parts)\n",
    "    \n",
    "    \n",
    "    # Funkcja zwraca pociętę na kawałki, o długości 1 sekundy nagrania\n",
    "    return parts\n",
    "    "
   ]
  },
  {
   "cell_type": "code",
   "execution_count": null,
   "metadata": {
    "execution": {
     "iopub.execute_input": "2024-11-22T13:13:50.317639Z",
     "iopub.status.busy": "2024-11-22T13:13:50.317235Z",
     "iopub.status.idle": "2024-11-22T13:13:50.330758Z",
     "shell.execute_reply": "2024-11-22T13:13:50.329307Z",
     "shell.execute_reply.started": "2024-11-22T13:13:50.317604Z"
    },
    "trusted": true
   },
   "outputs": [],
   "source": [
    "class EbeddingExtractor:\n",
    "    \n",
    "    def __init__(self, model, bottleneck, scaler_before_embedding, scaler_after_embedding=None, lda=None):\n",
    "        self.model = model  # Przypisanie modelu do obiektu\n",
    "        self.bottleneck = bottleneck # Nazwa warstwy bottleneck\n",
    "        self.scaler_before_embedding = scaler_before_embedding  # Skaler do standaryzacji MFCC przed generowaniem embeddingów\n",
    "        self.scaler_after_embedding = scaler_after_embedding  # Skaler do standaryzacji embeddingów przed zastosowaniem LDA\n",
    "        self.lda = lda  # Przypisanie modelu LDA do obiektu\n",
    "\n",
    "    # Funkcja obliczająca współczynniki MFCC dla danego nagrania audio\n",
    "    def calucate_MFCC(self, audio):\n",
    "        quantity_of_mel_coef = 40  # Liczba współczynników MFCC\n",
    "        quantity_of_mel_filters = 60  # Liczba filtrów Mel\n",
    "\n",
    "        # Obliczanie współczynników MFCC za pomocą librosa\n",
    "        mfcc = librosa.feature.mfcc(y=audio, \n",
    "                                    sr=16000, \n",
    "                                    n_mfcc=quantity_of_mel_coef, \n",
    "                                    n_mels=quantity_of_mel_filters).T\n",
    "        \n",
    "        #Oczliczam pochodne aby dane były zgodne z tymi na których model był trenowany\n",
    "        delta = librosa.feature.delta(mfcc)\n",
    "        delta2 = librosa.feature.delta(mfcc, order=2)\n",
    "\n",
    "        mfcc = np.hstack([mfcc, delta, delta2])\n",
    "\n",
    "        # Standaryzacja MFCC przed generowaniem embeddingów\n",
    "        mfcc = self.scaler_before_embedding.transform(mfcc)\n",
    "        return mfcc\n",
    "\n",
    "    # Funkcja obliczająca embedding na podstawie wcześniej przetworzonych MFCC\n",
    "    def calcuate_embedding(self, audio_MFCC):\n",
    "        \n",
    "        intermediate_layer_model = Model(inputs=self.model.inputs,\n",
    "                                         outputs=self.model.get_layer(self.bottleneck).output)\n",
    "        intermediate_output = intermediate_layer_model.predict(audio_MFCC[np.newaxis, ...])\n",
    "        \n",
    "        return intermediate_output\n",
    "\n",
    "    # Funkcja postprocessingu embeddingu – standaryzacja i LDA, jeżeli nie przekażemy skalera i LDA to nie zostanie przeprowadzony postprocessig\n",
    "    def transform_audio_postprocessing(self, embedding):\n",
    "        if self.scaler_after_embedding is not None:\n",
    "            embedding = self.scaler_after_embedding.transform(embedding)  # Standaryzacja embeddingu\n",
    "        if self.lda is not None:\n",
    "            embedding = self.lda.transform(embedding)  # Użycie LDA\n",
    "        \n",
    "        return embedding\n",
    "\n",
    "    # Funkcja łączy wszystkie poprzednie \n",
    "    def process_audio_to_embedding(self, audio):\n",
    "        mfcc = self.calucate_MFCC(audio)\n",
    "        embedding = self.calcuate_embedding(mfcc)\n",
    "        embedding = self.transform_audio_postprocessing(embedding)\n",
    "\n",
    "        return embedding"
   ]
  },
  {
   "cell_type": "code",
   "execution_count": null,
   "metadata": {
    "execution": {
     "iopub.execute_input": "2024-11-22T13:14:08.508883Z",
     "iopub.status.busy": "2024-11-22T13:14:08.508441Z",
     "iopub.status.idle": "2024-11-22T13:14:25.516079Z",
     "shell.execute_reply": "2024-11-22T13:14:25.514501Z",
     "shell.execute_reply.started": "2024-11-22T13:14:08.508847Z"
    },
    "trusted": true
   },
   "outputs": [],
   "source": [
    "# Inicjalizacja zmiennej iterator_for_model, która śledzi, który model jest obecnie przetwarzany.\n",
    "iterator_for_model = 0\n",
    "\n",
    "# Pętla iterująca przez listę modeli do przetwarzania.\n",
    "for model in list_of_models:\n",
    "    # Tworzenie obiektu ekstraktora embeddingów dla bieżącego modelu.\n",
    "    EmbExtr = EbeddingExtractor(model=model, \n",
    "                                bottleneck='bottleneck',  # Ustawienie nazwy warstwy bottleneck do ekstrakcji cech.\n",
    "                                scaler_before_embedding=scaler)  # Dodanie skalera przed warstwą embeddingów.\n",
    "    \n",
    "    # Lista do przechowywania embeddingów dla wszystkich osób dla bieżącego modelu.\n",
    "    all_person_embedding = []\n",
    "    \n",
    "    # Pętla iterująca przez dane do porównania (po 10 osób, jest jeszcze 40 kolejnych ale zostało to rozbite na 5 kont kaggle).\n",
    "    for i in range(0, 10):\n",
    "        # Pobranie danych audio dla jednej osoby.\n",
    "        one_person = data_to_cross_checking[i]\n",
    "        \n",
    "        # Podział audio jednej osoby na małe fragmenty (1-sekundowe).\n",
    "        slices = split_audio_to_slices(one_person, 1)\n",
    "        \n",
    "        # Lista do przechowywania embeddingów dla jednej osoby.\n",
    "        one_person_embedding = []\n",
    "    \n",
    "        # Inicjalizacja licznika fragmentów dla bieżącej osoby.\n",
    "        iterator = 0\n",
    "        \n",
    "        # Pętla iterująca przez wszystkie fragmenty audio dla danej osoby.\n",
    "        for slice in slices:\n",
    "            # Przetworzenie fragmentu audio na embedding za pomocą ekstraktora.\n",
    "            embedding = EmbExtr.process_audio_to_embedding(slice)\n",
    "            \n",
    "            # Dodanie embeddingu do listy dla jednej osoby.\n",
    "            one_person_embedding.append(embedding)\n",
    "            \n",
    "            # Zwiększenie licznika fragmentów.\n",
    "            iterator += 1\n",
    "            \n",
    "            # Wyświetlenie aktualnego postępu przetwarzania w konsoli.\n",
    "            print(f\"Model {iterator_for_model + 1}/{len(list_of_models)}, \"\n",
    "                  f\"Osoba {i + 1}/{len(data_to_cross_checking)}, \"\n",
    "                  f\"Część {iterator}/{len(slices)} ({iterator / len(slices):.2%})\")\n",
    "            \n",
    "            # Wyczyść poprzedni output w konsoli (dla czytelności).\n",
    "            clear_output(wait=True)\n",
    "        \n",
    "        # Dodanie embeddingów jednej osoby do listy wszystkich osób.\n",
    "        all_person_embedding.append(one_person_embedding)\n",
    "    \n",
    "    # Zapisanie embeddingów wszystkich osób do pliku .pkl dla bieżącego modelu.\n",
    "    with open('all_person_embedding_0_' + name_of_models[iterator_for_model] + '.pkl', 'wb') as file:\n",
    "        pickle.dump(all_person_embedding, file)\n",
    "\n",
    "    # Zwiększenie licznika modeli (przechodzimy do następnego modelu w liście).\n",
    "    iterator_for_model += 1\n"
   ]
  }
 ],
 "metadata": {
  "kaggle": {
   "accelerator": "none",
   "dataSources": [
    {
     "datasetId": 5923926,
     "sourceId": 9689961,
     "sourceType": "datasetVersion"
    },
    {
     "datasetId": 6010091,
     "sourceId": 9805327,
     "sourceType": "datasetVersion"
    },
    {
     "datasetId": 6130022,
     "sourceId": 9965122,
     "sourceType": "datasetVersion"
    },
    {
     "datasetId": 6134631,
     "sourceId": 9971421,
     "sourceType": "datasetVersion"
    }
   ],
   "dockerImageVersionId": 30786,
   "isGpuEnabled": false,
   "isInternetEnabled": true,
   "language": "python",
   "sourceType": "notebook"
  },
  "kernelspec": {
   "display_name": "base",
   "language": "python",
   "name": "python3"
  },
  "language_info": {
   "codemirror_mode": {
    "name": "ipython",
    "version": 3
   },
   "file_extension": ".py",
   "mimetype": "text/x-python",
   "name": "python",
   "nbconvert_exporter": "python",
   "pygments_lexer": "ipython3",
   "version": "3.11.7"
  }
 },
 "nbformat": 4,
 "nbformat_minor": 4
}
